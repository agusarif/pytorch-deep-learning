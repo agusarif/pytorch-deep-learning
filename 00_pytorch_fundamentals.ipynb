{
  "nbformat": 4,
  "nbformat_minor": 0,
  "metadata": {
    "colab": {
      "provenance": [],
      "toc_visible": true,
      "collapsed_sections": [],
      "mount_file_id": "1_yzBFIie1MLaehwaa2lCdQCqLSBMjgT4",
      "authorship_tag": "ABX9TyPtzVBkQO4s5FOCxgv69XEQ",
      "include_colab_link": true
    },
    "kernelspec": {
      "name": "python3",
      "display_name": "Python 3"
    },
    "language_info": {
      "name": "python"
    }
  },
  "cells": [
    {
      "cell_type": "markdown",
      "metadata": {
        "id": "view-in-github",
        "colab_type": "text"
      },
      "source": [
        "<a href=\"https://colab.research.google.com/github/agusarif/pytorch-deep-learning/blob/main/00_pytorch_fundamentals.ipynb\" target=\"_parent\"><img src=\"https://colab.research.google.com/assets/colab-badge.svg\" alt=\"Open In Colab\"/></a>"
      ]
    },
    {
      "cell_type": "code",
      "execution_count": 1,
      "metadata": {
        "colab": {
          "base_uri": "https://localhost:8080/"
        },
        "id": "vXXUG4xVUqgd",
        "outputId": "2a5c255f-e4ed-4809-dadb-47f19a88a863"
      },
      "outputs": [
        {
          "output_type": "stream",
          "name": "stdout",
          "text": [
            "Hai! Selamat memulai pembelajaran tentang PyTorch!\n"
          ]
        }
      ],
      "source": [
        "# tampilkan pesan perdana belajar PyTorch\n",
        "print('Hai! Selamat memulai pembelajaran tentang PyTorch!')"
      ]
    },
    {
      "cell_type": "code",
      "source": [
        "# pilih menu Runtime | Change runtime type | Hardware accelerator: GPU\n",
        "# uji pemercepat GPU dengan perintah 'magic':\n",
        "!nvidia-smi"
      ],
      "metadata": {
        "colab": {
          "base_uri": "https://localhost:8080/"
        },
        "id": "_MFt9DozW0qZ",
        "outputId": "70c5a6bc-8699-445c-aae7-d567b030900a"
      },
      "execution_count": 2,
      "outputs": [
        {
          "output_type": "stream",
          "name": "stdout",
          "text": [
            "Mon Oct 17 00:42:08 2022       \n",
            "+-----------------------------------------------------------------------------+\n",
            "| NVIDIA-SMI 460.32.03    Driver Version: 460.32.03    CUDA Version: 11.2     |\n",
            "|-------------------------------+----------------------+----------------------+\n",
            "| GPU  Name        Persistence-M| Bus-Id        Disp.A | Volatile Uncorr. ECC |\n",
            "| Fan  Temp  Perf  Pwr:Usage/Cap|         Memory-Usage | GPU-Util  Compute M. |\n",
            "|                               |                      |               MIG M. |\n",
            "|===============================+======================+======================|\n",
            "|   0  Tesla T4            Off  | 00000000:00:04.0 Off |                    0 |\n",
            "| N/A   51C    P8    10W /  70W |      0MiB / 15109MiB |      0%      Default |\n",
            "|                               |                      |                  N/A |\n",
            "+-------------------------------+----------------------+----------------------+\n",
            "                                                                               \n",
            "+-----------------------------------------------------------------------------+\n",
            "| Processes:                                                                  |\n",
            "|  GPU   GI   CI        PID   Type   Process name                  GPU Memory |\n",
            "|        ID   ID                                                   Usage      |\n",
            "|=============================================================================|\n",
            "|  No running processes found                                                 |\n",
            "+-----------------------------------------------------------------------------+\n"
          ]
        }
      ]
    },
    {
      "cell_type": "markdown",
      "source": [
        "# 00. Dasar-dasar PyTorch\n",
        "\n",
        "_Notebook_ sumber: https://www.learnpytorch.io/00_pytorch_fundamentals/\n",
        "\n",
        "Forum untuk diskusi: https://github.com/mrdbourke/pytorch-deep-learning/discussions\n",
        "\n",
        "Instalasi PyTorch pada komputer macOS: https://pytorch.org/get-started/locally/"
      ],
      "metadata": {
        "id": "gS6lhaAMXvO8"
      }
    },
    {
      "cell_type": "code",
      "source": [
        "# sertakan pustaka PyTorch dan beberapa pustaka lainnya\n",
        "import torch\n",
        "import pandas as pd\n",
        "import numpy as np\n",
        "import matplotlib.pyplot as plt\n",
        "\n",
        "# tampilkan versi dari pustaka PyTorch\n",
        "print('Versi pustaka PyTorch =', torch.__version__)"
      ],
      "metadata": {
        "colab": {
          "base_uri": "https://localhost:8080/"
        },
        "id": "Q4vC90dvXVQR",
        "outputId": "303af349-f4cb-480c-b8de-7223cb4fc8ed"
      },
      "execution_count": 1,
      "outputs": [
        {
          "output_type": "stream",
          "name": "stdout",
          "text": [
            "Versi pustaka PyTorch = 1.12.1+cu113\n"
          ]
        }
      ]
    },
    {
      "cell_type": "markdown",
      "source": [
        "## Perkenalan dengan Tensor\n",
        "\n",
        "### Membuat Tensor\n",
        "\n",
        "Tensor pada PyTorch dibuat dengan menggunakan metode `torch.tensor()` dengan acuan pada laman: https://pytorch.org/docs/stable/tensors.html"
      ],
      "metadata": {
        "id": "htwNZENMdhWW"
      }
    },
    {
      "cell_type": "code",
      "source": [
        "# buat tensor jenis skalar\n",
        "skalar = torch.tensor(7)\n",
        "skalar"
      ],
      "metadata": {
        "colab": {
          "base_uri": "https://localhost:8080/"
        },
        "id": "uxqiKT-Zdnwx",
        "outputId": "fc771908-f02b-4d16-a7c8-ab51fd95bc2e"
      },
      "execution_count": 2,
      "outputs": [
        {
          "output_type": "execute_result",
          "data": {
            "text/plain": [
              "tensor(7)"
            ]
          },
          "metadata": {},
          "execution_count": 2
        }
      ]
    },
    {
      "cell_type": "code",
      "source": [
        "# tentukan cacah dimensi (cacah pasangan kurung-siku) dari skalar\n",
        "skalar.ndim"
      ],
      "metadata": {
        "id": "fvUxr0zkd0np",
        "colab": {
          "base_uri": "https://localhost:8080/"
        },
        "outputId": "efbe6c42-f4a5-45d5-b843-be5871d59aaa"
      },
      "execution_count": 3,
      "outputs": [
        {
          "output_type": "execute_result",
          "data": {
            "text/plain": [
              "0"
            ]
          },
          "metadata": {},
          "execution_count": 3
        }
      ]
    },
    {
      "cell_type": "code",
      "source": [
        "# cuplik nilai asli (bilangan bulat) dari tensor\n",
        "skalar.item()"
      ],
      "metadata": {
        "colab": {
          "base_uri": "https://localhost:8080/"
        },
        "id": "ju-ubD_TgPlW",
        "outputId": "aa16f07f-6e56-41eb-ef18-1c9929ee5ff3"
      },
      "execution_count": 4,
      "outputs": [
        {
          "output_type": "execute_result",
          "data": {
            "text/plain": [
              "7"
            ]
          },
          "metadata": {},
          "execution_count": 4
        }
      ]
    },
    {
      "cell_type": "code",
      "source": [
        "# buat tensor jenis vektor\n",
        "vektor = torch.tensor([7, 7])\n",
        "vektor"
      ],
      "metadata": {
        "colab": {
          "base_uri": "https://localhost:8080/"
        },
        "id": "2zl0hvYLglk-",
        "outputId": "ec6106ad-54f4-4c38-d72d-04c1d4e28386"
      },
      "execution_count": 5,
      "outputs": [
        {
          "output_type": "execute_result",
          "data": {
            "text/plain": [
              "tensor([7, 7])"
            ]
          },
          "metadata": {},
          "execution_count": 5
        }
      ]
    },
    {
      "cell_type": "code",
      "source": [
        "# tentukan cacah dimensi (cacah pasangan kurung-siku) dari vektor\n",
        "vektor.ndim"
      ],
      "metadata": {
        "colab": {
          "base_uri": "https://localhost:8080/"
        },
        "id": "OI13ximwhHwH",
        "outputId": "4a108f7d-44a5-4043-9189-8cf01f9d3c94"
      },
      "execution_count": 6,
      "outputs": [
        {
          "output_type": "execute_result",
          "data": {
            "text/plain": [
              "1"
            ]
          },
          "metadata": {},
          "execution_count": 6
        }
      ]
    },
    {
      "cell_type": "code",
      "source": [
        "# tentukan bentuk dari vektor\n",
        "vektor.shape"
      ],
      "metadata": {
        "colab": {
          "base_uri": "https://localhost:8080/"
        },
        "id": "3RROj7Ynh1g5",
        "outputId": "a9bfb16f-39ee-4da4-8974-0268017283ca"
      },
      "execution_count": 7,
      "outputs": [
        {
          "output_type": "execute_result",
          "data": {
            "text/plain": [
              "torch.Size([2])"
            ]
          },
          "metadata": {},
          "execution_count": 7
        }
      ]
    },
    {
      "cell_type": "code",
      "source": [],
      "metadata": {
        "id": "aSKzZYheh-Mv"
      },
      "execution_count": null,
      "outputs": []
    }
  ]
}