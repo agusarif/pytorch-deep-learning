{
  "nbformat": 4,
  "nbformat_minor": 0,
  "metadata": {
    "colab": {
      "provenance": [],
      "mount_file_id": "1_yzBFIie1MLaehwaa2lCdQCqLSBMjgT4",
      "authorship_tag": "ABX9TyODqifagglVBCqtKYxdCcLO",
      "include_colab_link": true
    },
    "kernelspec": {
      "name": "python3",
      "display_name": "Python 3"
    },
    "language_info": {
      "name": "python"
    },
    "accelerator": "GPU"
  },
  "cells": [
    {
      "cell_type": "markdown",
      "metadata": {
        "id": "view-in-github",
        "colab_type": "text"
      },
      "source": [
        "<a href=\"https://colab.research.google.com/github/agusarif/pytorch-deep-learning/blob/main/00_pytorch_fundamentals.ipynb\" target=\"_parent\"><img src=\"https://colab.research.google.com/assets/colab-badge.svg\" alt=\"Open In Colab\"/></a>"
      ]
    },
    {
      "cell_type": "code",
      "execution_count": null,
      "metadata": {
        "colab": {
          "base_uri": "https://localhost:8080/"
        },
        "id": "vXXUG4xVUqgd",
        "outputId": "5f4fb1bd-9c15-4804-fa89-4957e4b600b4"
      },
      "outputs": [
        {
          "output_type": "stream",
          "name": "stdout",
          "text": [
            "Hai! Selamat memulai pembelajaran tentang PyTorch!\n"
          ]
        }
      ],
      "source": [
        "# tampilkan pesan perdana belajar PyTorch\n",
        "print('Hai! Selamat memulai pembelajaran tentang PyTorch!')"
      ]
    },
    {
      "cell_type": "code",
      "source": [
        "# pilih menu Runtime | Change runtime type | Hardware accelerator: GPU\n",
        "# uji pemercepat GPU dengan perintah 'magic':\n",
        "!nvidia-smi"
      ],
      "metadata": {
        "colab": {
          "base_uri": "https://localhost:8080/"
        },
        "id": "_MFt9DozW0qZ",
        "outputId": "843b8dc8-1ab9-446f-a27a-2ac1d6f36eab"
      },
      "execution_count": null,
      "outputs": [
        {
          "output_type": "stream",
          "name": "stdout",
          "text": [
            "Sun Oct 16 05:56:45 2022       \n",
            "+-----------------------------------------------------------------------------+\n",
            "| NVIDIA-SMI 460.32.03    Driver Version: 460.32.03    CUDA Version: 11.2     |\n",
            "|-------------------------------+----------------------+----------------------+\n",
            "| GPU  Name        Persistence-M| Bus-Id        Disp.A | Volatile Uncorr. ECC |\n",
            "| Fan  Temp  Perf  Pwr:Usage/Cap|         Memory-Usage | GPU-Util  Compute M. |\n",
            "|                               |                      |               MIG M. |\n",
            "|===============================+======================+======================|\n",
            "|   0  Tesla T4            Off  | 00000000:00:04.0 Off |                    0 |\n",
            "| N/A   42C    P8     9W /  70W |      0MiB / 15109MiB |      0%      Default |\n",
            "|                               |                      |                  N/A |\n",
            "+-------------------------------+----------------------+----------------------+\n",
            "                                                                               \n",
            "+-----------------------------------------------------------------------------+\n",
            "| Processes:                                                                  |\n",
            "|  GPU   GI   CI        PID   Type   Process name                  GPU Memory |\n",
            "|        ID   ID                                                   Usage      |\n",
            "|=============================================================================|\n",
            "|  No running processes found                                                 |\n",
            "+-----------------------------------------------------------------------------+\n"
          ]
        }
      ]
    },
    {
      "cell_type": "markdown",
      "source": [
        "# 00. Dasar-dasar PyTorch\n",
        "\n",
        "_Notebook_ sumber: https://www.learnpytorch.io/00_pytorch_fundamentals/\n",
        "\n",
        "Forum untuk diskusi: https://github.com/mrdbourke/pytorch-deep-learning/discussions\n",
        "\n",
        "Instalasi PyTorch pada komputer macOS: https://pytorch.org/get-started/locally/"
      ],
      "metadata": {
        "id": "gS6lhaAMXvO8"
      }
    },
    {
      "cell_type": "code",
      "source": [
        "# sertakan pustaka PyTorch dan beberapa pustaka lainnya\n",
        "import torch\n",
        "import pandas as pd\n",
        "import numpy as np\n",
        "import matplotlib.pyplot as plt\n",
        "\n",
        "# tampilkan versi dari pustaka PyTorch\n",
        "print('Versi pustaka PyTorch =', torch.__version__)"
      ],
      "metadata": {
        "colab": {
          "base_uri": "https://localhost:8080/"
        },
        "id": "Q4vC90dvXVQR",
        "outputId": "98e2b3ce-65c9-4368-8e42-5627e6a4f74d"
      },
      "execution_count": null,
      "outputs": [
        {
          "output_type": "stream",
          "name": "stdout",
          "text": [
            "Versi pustaka PyTorch = 1.12.1+cu113\n"
          ]
        }
      ]
    },
    {
      "cell_type": "markdown",
      "source": [
        "## Perkenalan dengan Tensor\n",
        "\n",
        "### Membuat Tensor"
      ],
      "metadata": {
        "id": "htwNZENMdhWW"
      }
    },
    {
      "cell_type": "code",
      "source": [
        "# buat tensor jenis skalar\n",
        "skalar = torch.tensor(7)\n",
        "skalar"
      ],
      "metadata": {
        "colab": {
          "base_uri": "https://localhost:8080/"
        },
        "id": "uxqiKT-Zdnwx",
        "outputId": "0cc24ee8-770c-4902-b239-a8b3b1a51f0f"
      },
      "execution_count": 6,
      "outputs": [
        {
          "output_type": "execute_result",
          "data": {
            "text/plain": [
              "tensor(7)"
            ]
          },
          "metadata": {},
          "execution_count": 6
        }
      ]
    },
    {
      "cell_type": "code",
      "source": [],
      "metadata": {
        "id": "fvUxr0zkd0np"
      },
      "execution_count": null,
      "outputs": []
    }
  ]
}